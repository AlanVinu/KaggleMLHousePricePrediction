{
 "cells": [
  {
   "cell_type": "code",
   "execution_count": 7,
   "metadata": {},
   "outputs": [
    {
     "name": "stdout",
     "output_type": "stream",
     "text": [
      "Making predictions for the following 5 houses: \n",
      "   Rooms  Bathroom  Landsize  Lattitude  Longtitude\n",
      "1      2       1.0     156.0   -37.8079    144.9934\n",
      "2      3       2.0     134.0   -37.8093    144.9944\n",
      "4      4       1.0     120.0   -37.8072    144.9941\n",
      "6      3       2.0     245.0   -37.8024    144.9993\n",
      "7      2       1.0     256.0   -37.8060    144.9954\n",
      "The predictions are\n",
      "[1035000. 1465000. 1600000. 1876000. 1636000.]\n"
     ]
    }
   ],
   "source": [
    "import pandas as pd\n",
    "\n",
    "#saving file path\n",
    "melbourne_file_path = '../MLKaggleCourse/melb_data.csv'\n",
    "\n",
    "#reading and storing data in DataFrame\n",
    "melbourne_data = pd.read_csv(melbourne_file_path)\n",
    "\n",
    "#summary\n",
    "melbourne_data.describe()\n",
    "\n",
    "#list of all columns\n",
    "melbourne_data.columns\n",
    "\n",
    "#dropping houses with missing values\n",
    "melbourne_data = melbourne_data.dropna(axis = 0)\n",
    "\n",
    "#prediction target is the Price\n",
    "y = melbourne_data.Price\n",
    "\n",
    "#selecting the features for the model\n",
    "melbourne_features = ['Rooms', 'Bathroom', 'Landsize', 'Lattitude', 'Longtitude']\n",
    "X = melbourne_data[melbourne_features]\n",
    "X.describe()\n",
    "X.head()\n",
    "\n",
    "#Decision tree model\n",
    "from sklearn.tree import DecisionTreeRegressor\n",
    "#Defining model, a number is given for random_state to ensure same result in each run\n",
    "melbourne_model = DecisionTreeRegressor(random_state = 1)\n",
    "#fitting the model\n",
    "melbourne_model.fit(X,y)\n",
    "\n",
    "#testing the model by predicting for first 5 houses in the training data\n",
    "print(\"Making predictions for the following 5 houses: \")\n",
    "print(X.head())\n",
    "print(\"The predictions are\")\n",
    "print(melbourne_model.predict(X.head()))"
   ]
  }
 ],
 "metadata": {
  "kernelspec": {
   "display_name": "Python 3",
   "language": "python",
   "name": "python3"
  },
  "language_info": {
   "codemirror_mode": {
    "name": "ipython",
    "version": 3
   },
   "file_extension": ".py",
   "mimetype": "text/x-python",
   "name": "python",
   "nbconvert_exporter": "python",
   "pygments_lexer": "ipython3",
   "version": "3.6.2"
  }
 },
 "nbformat": 4,
 "nbformat_minor": 2
}
